{
 "cells": [
  {
   "attachments": {},
   "cell_type": "markdown",
   "metadata": {},
   "source": [
    "<div align=center style=\"line-height:200%;font-family:vazir;font-size:medium;color:#0099cc\">\n",
    "<h1>\n",
    "<font face=\"vazirmatn\" color=\"#0099cc\">\n",
    "یونیدرو\n",
    "</font>\n",
    "</h1>\n",
    "</p>\n",
    "</div>\n",
    "\n",
    "<h2 align=right style=\"direction: rtl; text-align: right; line-height:200%;font-family:vazir;color:#0099cc\">\n",
    "<font face=\"vazirmatn\" color=\"#0099cc\">\n",
    "آشنایی با نقشه‌ی حرارتی (Heatmap) \n",
    "</font>\n",
    "</h2>\n",
    "\n",
    "<div style=\"line-height:200%;font-family:vazir;font-size:medium\">\n",
    "<p style=\"direction: rtl;text-align: justify;\">\n",
    "<font face=\"vazirmatn\" size=3>\n",
    "\n",
    "نقشه‌ی حرارتی روشی برای نمایش داده‌ها در امور تحلیل داده‌ای می‌باشد که در آن رنگ‌ها متناسب با بزرگی و کوچکی اعداد تغییر می‌کنند. در نقشه‌های حرارتی، از یک تابع نگاشت رنگ (color map) برای تبدیل اعداد به رنگ‌ها استفاده می‌شود. نقشه‌ی حرارتی کاربرد‌های بسیاری دارد و در حوزه‌های مختلفی می‌توان برای نمایش اطلاعات از آن استفاده کرد. محققان داده معمولاً هنگامی‌که می‌خواهند نتایج کار را به شکلی قابل فهم به افراد غیر‌متخصص نشان دهند از نقشه‌ی حرارتی استفاده می‌کند. فرض کنید یک مجموعه‌داده‌ی بزرگ در اختیار دارید و رابطه‌ی همه‌ی ستون‌ها را با هم به‌صورت یک‌به‌یک محاسبه کرده‌اید. اگر بخواهید نتایج به‌دست‌آمده را به فرد دیگری نشان دهید، ارائه‌ی تمام اعداد راه‌‌حل ساده‌ای نمی‌باشد. به جای آن، می‌توان یک نقشه‌ی حرارتی ایجاد کرد که با یک نگاه به آن، خیلی سریع متغیر‌های به‌هم‌وابسته شناسایی می‌شوند چون رنگ آنها متفاوت است. در این تمرین با استفاده از نقشه‌ی حرارتی رابطه بین عناصر مختلف در این مجموعه‌داده را مشخص می‌کنیم.\n",
    "</font>\n",
    "</p>\n",
    "</div>\n"
   ]
  },
  {
   "cell_type": "code",
   "metadata": {
    "id": "BtIHgscGW5TX",
    "ExecuteTime": {
     "end_time": "2025-02-27T12:45:54.795911Z",
     "start_time": "2025-02-27T12:45:54.791283Z"
    }
   },
   "source": [
    "import pandas as pd\n",
    "import matplotlib.pyplot as plt\n",
    "import seaborn as sns"
   ],
   "outputs": [],
   "execution_count": 6
  },
  {
   "attachments": {},
   "cell_type": "markdown",
   "metadata": {},
   "source": [
    "<h2 align=right style=\"direction: rtl; text-align: right; line-height:200%;font-family:vazir;color:#0099cc\">\n",
    "<font face=\"vazirmatn\" color=\"#0099cc\">\n",
    "مجموعه‌داده\n",
    "</font>\n",
    "</h2>\n",
    "\n",
    "<div style=\"line-height:200%;font-family:vazir;font-size:medium\">\n",
    "<p style=\"direction: rtl;text-align: justify;\">\n",
    "<font face=\"vazirmatn\" size=3>\n",
    "داده‌های این تمرین در فایل <code>unidro_data.csv</code> قرار گرفته است. ابتدا این فایل را به‌شکل یک دیتافریم خوانده و نگاهی به آن بیندازیم.\n",
    "</font>\n",
    "</p>\n",
    "</div>"
   ]
  },
  {
   "cell_type": "code",
   "metadata": {
    "id": "bGgA5uj4XMWS",
    "ExecuteTime": {
     "end_time": "2025-02-27T12:45:54.724943800Z",
     "start_time": "2025-02-27T11:25:40.629064Z"
    }
   },
   "source": [
    "df = pd.read_csv('unidro_data.csv')\n",
    "df.head()"
   ],
   "outputs": [
    {
     "data": {
      "text/plain": [
       "    Au8  Au8_CN     Au    Ag     Al     As   B   Ba    Ca   Ce  ...     P  \\\n",
       "0  0.67   32.40  2.068   1.7   5300    649  12  205   300   97  ...   900   \n",
       "1  0.08    8.82  0.907   0.8   6900    451  13  345   400  103  ...  1180   \n",
       "2  0.04    6.80  0.588   0.9   6900   1007  17  210   400   98  ...   990   \n",
       "3  0.55    7.00  7.855   1.1  10600  19627  13  140   500   94  ...  1240   \n",
       "4  0.15   20.60  0.728  21.3   7900   5776  14  123  1800   75  ...  1430   \n",
       "\n",
       "      Pb      S    Sb  Sr  Th  Ti   V   Y    Zn  \n",
       "0   1227  27600   592  16  22  18  10  21   388  \n",
       "1    251  17600   237  20  22  19   9  18   567  \n",
       "2    121  17700   317  18  22  22  10  17   552  \n",
       "3    158  37300  1454  25  24  22  18  21  5965  \n",
       "4  17270  69700   582  28  19  20  10  20  1394  \n",
       "\n",
       "[5 rows x 31 columns]"
      ],
      "text/html": [
       "<div>\n",
       "<style scoped>\n",
       "    .dataframe tbody tr th:only-of-type {\n",
       "        vertical-align: middle;\n",
       "    }\n",
       "\n",
       "    .dataframe tbody tr th {\n",
       "        vertical-align: top;\n",
       "    }\n",
       "\n",
       "    .dataframe thead th {\n",
       "        text-align: right;\n",
       "    }\n",
       "</style>\n",
       "<table border=\"1\" class=\"dataframe\">\n",
       "  <thead>\n",
       "    <tr style=\"text-align: right;\">\n",
       "      <th></th>\n",
       "      <th>Au8</th>\n",
       "      <th>Au8_CN</th>\n",
       "      <th>Au</th>\n",
       "      <th>Ag</th>\n",
       "      <th>Al</th>\n",
       "      <th>As</th>\n",
       "      <th>B</th>\n",
       "      <th>Ba</th>\n",
       "      <th>Ca</th>\n",
       "      <th>Ce</th>\n",
       "      <th>...</th>\n",
       "      <th>P</th>\n",
       "      <th>Pb</th>\n",
       "      <th>S</th>\n",
       "      <th>Sb</th>\n",
       "      <th>Sr</th>\n",
       "      <th>Th</th>\n",
       "      <th>Ti</th>\n",
       "      <th>V</th>\n",
       "      <th>Y</th>\n",
       "      <th>Zn</th>\n",
       "    </tr>\n",
       "  </thead>\n",
       "  <tbody>\n",
       "    <tr>\n",
       "      <th>0</th>\n",
       "      <td>0.67</td>\n",
       "      <td>32.40</td>\n",
       "      <td>2.068</td>\n",
       "      <td>1.7</td>\n",
       "      <td>5300</td>\n",
       "      <td>649</td>\n",
       "      <td>12</td>\n",
       "      <td>205</td>\n",
       "      <td>300</td>\n",
       "      <td>97</td>\n",
       "      <td>...</td>\n",
       "      <td>900</td>\n",
       "      <td>1227</td>\n",
       "      <td>27600</td>\n",
       "      <td>592</td>\n",
       "      <td>16</td>\n",
       "      <td>22</td>\n",
       "      <td>18</td>\n",
       "      <td>10</td>\n",
       "      <td>21</td>\n",
       "      <td>388</td>\n",
       "    </tr>\n",
       "    <tr>\n",
       "      <th>1</th>\n",
       "      <td>0.08</td>\n",
       "      <td>8.82</td>\n",
       "      <td>0.907</td>\n",
       "      <td>0.8</td>\n",
       "      <td>6900</td>\n",
       "      <td>451</td>\n",
       "      <td>13</td>\n",
       "      <td>345</td>\n",
       "      <td>400</td>\n",
       "      <td>103</td>\n",
       "      <td>...</td>\n",
       "      <td>1180</td>\n",
       "      <td>251</td>\n",
       "      <td>17600</td>\n",
       "      <td>237</td>\n",
       "      <td>20</td>\n",
       "      <td>22</td>\n",
       "      <td>19</td>\n",
       "      <td>9</td>\n",
       "      <td>18</td>\n",
       "      <td>567</td>\n",
       "    </tr>\n",
       "    <tr>\n",
       "      <th>2</th>\n",
       "      <td>0.04</td>\n",
       "      <td>6.80</td>\n",
       "      <td>0.588</td>\n",
       "      <td>0.9</td>\n",
       "      <td>6900</td>\n",
       "      <td>1007</td>\n",
       "      <td>17</td>\n",
       "      <td>210</td>\n",
       "      <td>400</td>\n",
       "      <td>98</td>\n",
       "      <td>...</td>\n",
       "      <td>990</td>\n",
       "      <td>121</td>\n",
       "      <td>17700</td>\n",
       "      <td>317</td>\n",
       "      <td>18</td>\n",
       "      <td>22</td>\n",
       "      <td>22</td>\n",
       "      <td>10</td>\n",
       "      <td>17</td>\n",
       "      <td>552</td>\n",
       "    </tr>\n",
       "    <tr>\n",
       "      <th>3</th>\n",
       "      <td>0.55</td>\n",
       "      <td>7.00</td>\n",
       "      <td>7.855</td>\n",
       "      <td>1.1</td>\n",
       "      <td>10600</td>\n",
       "      <td>19627</td>\n",
       "      <td>13</td>\n",
       "      <td>140</td>\n",
       "      <td>500</td>\n",
       "      <td>94</td>\n",
       "      <td>...</td>\n",
       "      <td>1240</td>\n",
       "      <td>158</td>\n",
       "      <td>37300</td>\n",
       "      <td>1454</td>\n",
       "      <td>25</td>\n",
       "      <td>24</td>\n",
       "      <td>22</td>\n",
       "      <td>18</td>\n",
       "      <td>21</td>\n",
       "      <td>5965</td>\n",
       "    </tr>\n",
       "    <tr>\n",
       "      <th>4</th>\n",
       "      <td>0.15</td>\n",
       "      <td>20.60</td>\n",
       "      <td>0.728</td>\n",
       "      <td>21.3</td>\n",
       "      <td>7900</td>\n",
       "      <td>5776</td>\n",
       "      <td>14</td>\n",
       "      <td>123</td>\n",
       "      <td>1800</td>\n",
       "      <td>75</td>\n",
       "      <td>...</td>\n",
       "      <td>1430</td>\n",
       "      <td>17270</td>\n",
       "      <td>69700</td>\n",
       "      <td>582</td>\n",
       "      <td>28</td>\n",
       "      <td>19</td>\n",
       "      <td>20</td>\n",
       "      <td>10</td>\n",
       "      <td>20</td>\n",
       "      <td>1394</td>\n",
       "    </tr>\n",
       "  </tbody>\n",
       "</table>\n",
       "<p>5 rows × 31 columns</p>\n",
       "</div>"
      ]
     },
     "execution_count": 2,
     "metadata": {},
     "output_type": "execute_result"
    }
   ],
   "execution_count": 2
  },
  {
   "attachments": {},
   "cell_type": "markdown",
   "metadata": {},
   "source": [
    "\n",
    "<div style=\"line-height:200%;font-family:vazir;font-size:medium\">\n",
    "<p style=\"direction: rtl;text-align: justify;\">\n",
    "<font face=\"vazirmatn\" size=3>\n",
    "داده‌های این تمرین، از اطلاعات واقعی عناصر و عیار آن‌ها که شرکت یونیدرو از آن‌ها استفاده می‌کند، به‌‌دست‌ آمده است. در صنایع معدن، نمونه‌های یک گرمی را با دستگاهی به نام <i>ICP-OES</i>\n",
    " مورد بررسی قرار می‌دهند و دستگاه، غلظت عناصر موجود در آن نمونه‌ی یک‌گرمی را به ما می‌دهد. واحد غلظت، <i>ppm (part per million)</i> می‌باشد. در این دیتافریم، ۱۲۲۶ نمونه‌ی یک‌گرمی مورد بررسی قرار گرفته‌اند و غلظت عناصر مورد نظر ما (۳۱ عنصر)، به‌‌دست‌ آمده‌اند. در این تمرین، می‌خواهیم بررسی کنیم که آیا رابطه‌ی معناداری بین عیار عناصر وجود دارد یا خیر. یعنی با افزایش یک عنصر در یک نمونه، چه عناصری کاهش یا افزایش می‌یابند.\n",
    "</font>\n",
    "</p>\n",
    "</div>"
   ]
  },
  {
   "cell_type": "code",
   "metadata": {
    "ExecuteTime": {
     "end_time": "2025-02-27T12:45:54.739546300Z",
     "start_time": "2025-02-27T11:25:41.712160Z"
    }
   },
   "source": [
    "df.shape"
   ],
   "outputs": [
    {
     "data": {
      "text/plain": [
       "(1226, 31)"
      ]
     },
     "execution_count": 3,
     "metadata": {},
     "output_type": "execute_result"
    }
   ],
   "execution_count": 3
  },
  {
   "attachments": {},
   "cell_type": "markdown",
   "metadata": {
    "id": "h6LgDTETY6xn"
   },
   "source": [
    "<h2 align=right style=\"line-height:200%;font-family:vazir;color:#0099cc\">\n",
    "<font face=\"vazirmatn\" color=\"#0099cc\">\n",
    "قسمت اول\n",
    "</font>\n",
    "</h2>\n",
    "<div style=\"line-height:200%;font-family:vazir;font-size:medium\">\n",
    "<p style=\"direction: rtl;text-align: justify;\">\n",
    "<font face=\"vazirmatn\" size=3>\n",
    "ماتریس هم‌بستگی (correlation)  بین ستون‌های این دیتافریم را به‌دست آورید.\n",
    "</font>\n",
    "</p>\n",
    "</div>"
   ]
  },
  {
   "cell_type": "code",
   "metadata": {
    "id": "jb8SbDnjXRst",
    "ExecuteTime": {
     "end_time": "2025-02-27T12:47:53.646742Z",
     "start_time": "2025-02-27T12:47:53.634919Z"
    }
   },
   "source": "corr_matrix = df.corr()",
   "outputs": [],
   "execution_count": 7
  },
  {
   "attachments": {},
   "cell_type": "markdown",
   "metadata": {
    "id": "YCSECd5TZgaq"
   },
   "source": [
    "\n",
    "<h2 align=right style=\"line-height:200%;font-family:vazir;color:#0099cc\">\n",
    "<font face=\"vazirmatn\" color=\"#0099cc\">\n",
    "قسمت دوم\n",
    "</font>\n",
    "\n",
    "</h2>\n",
    "<div style=\"line-height:200%;font-family:vazir;font-size:medium\">\n",
    "<p style=\"direction: rtl;text-align: justify;\">\n",
    "<font face=\"vazirmatn\" size=3>\n",
    "<ul style=\"direction: rtl;text-align: justify;\">\n",
    "  <li>\n",
    "با مت‌پلات، یک شکل شامل یک صفحه‌محور بسازید و اندازه‌ی طول و عرض آن را به ترتیب برابر ۱۲ و ۱۰ اینچ قرار دهید.\n",
    "</li>\n",
    "\n",
    "  <li>\n",
    "با استفاده از تابع <code>heatmap</code> سیبورن، بر روی صفحه‌محوری که ساختید، یک نقشه‌ی حرارتی بکشید. ماتریس رابطه‌ای که در قسمت اول به‌‌دست‌ آمد را به آن بدهید. همچنین از نگاشت رنگ <code>viridis</code> استفاده کنید.\n",
    "\n",
    "</li>\n",
    "\n",
    "  <li>\n",
    "عنوان نمودار را برابر <code>correlation heatmap</code> قرار دهید.\n",
    "\n",
    "</li>\n",
    "\n",
    "</ul>\n",
    "</font>\n",
    "</p>\n",
    "</div>"
   ]
  },
  {
   "cell_type": "code",
   "metadata": {
    "colab": {
     "base_uri": "https://localhost:8080/",
     "height": 655
    },
    "id": "vvsmLJN6Y7bw",
    "outputId": "c1985e42-295e-446e-a05d-1b79855d074d",
    "ExecuteTime": {
     "end_time": "2025-02-27T12:45:54.747589800Z",
     "start_time": "2025-02-27T11:25:42.356392Z"
    }
   },
   "source": [
    "fig1, ax1 = None # To-Do"
   ],
   "outputs": [
    {
     "ename": "TypeError",
     "evalue": "cannot unpack non-iterable NoneType object",
     "output_type": "error",
     "traceback": [
      "\u001B[1;31m---------------------------------------------------------------------------\u001B[0m",
      "\u001B[1;31mTypeError\u001B[0m                                 Traceback (most recent call last)",
      "Cell \u001B[1;32mIn[5], line 1\u001B[0m\n\u001B[1;32m----> 1\u001B[0m fig1, ax1 \u001B[38;5;241m=\u001B[39m \u001B[38;5;28;01mNone\u001B[39;00m \u001B[38;5;66;03m# To-Do\u001B[39;00m\n",
      "\u001B[1;31mTypeError\u001B[0m: cannot unpack non-iterable NoneType object"
     ]
    }
   ],
   "execution_count": 5
  },
  {
   "attachments": {},
   "cell_type": "markdown",
   "metadata": {
    "id": "NSZ6b6Jwhura"
   },
   "source": [
    "\n",
    "<div style=\"line-height:200%;font-family:vazir;font-size:medium\">\n",
    "<p style=\"direction: rtl;text-align: justify;\">\n",
    "<font face=\"vazirmatn\" size=3>\n",
    "اگر با دقت به خروجی قسمت دوم نگاه کنید، می‌بینید که این شکل متقارن است. به این دلیل که رابطه ویژگی \n",
    "<code>x</code>\n",
    " و \n",
    " <code>y</code>\n",
    "  با رابطه ویژگی \n",
    "  <code>y</code>\n",
    "   و \n",
    "   <code>x</code>\n",
    "    برابر است. یعنی هر مقدار دو بار حساب شده است و ماتریس از روی قطر متقارن است.\n",
    "</font>\n",
    "</p>\n",
    "</div>\n"
   ]
  },
  {
   "attachments": {},
   "cell_type": "markdown",
   "metadata": {
    "id": "Y-RSOsJ9imrE"
   },
   "source": [
    "\n",
    "<h2 align=right style=\"line-height:200%;font-family:vazir;color:#0099cc\">\n",
    "<font face=\"vazirmatn\" color=\"#0099cc\">\n",
    "قسمت سوم\n",
    "</font>\n",
    "</h2>\n",
    "<div style=\"line-height:200%;font-family:vazir;font-size:medium\">\n",
    "<p style=\"direction: rtl;text-align: justify;\">\n",
    "<font face=\"vazirmatn\" size=3>\n",
    "ماسک (mask)، آرایه‌ای است که اجزای آن فقط صفر و یک (یا <code>True</code> و <code>False</code>) می‌باشند. نمونه‌هایی از ماسک را در فصل نامپای و پانداز دیدید.\n",
    "در این قسمت می‌خواهیم یک ماسک بسازیم و از آن برای نمایش مثلث پایینی نقشه‌ی حرارتی استفاده کنیم.\n",
    "<br>\n",
    "\n",
    "<ul style=\"direction: rtl;text-align: justify;\">\n",
    "  <li>\n",
    "با استفاده از نامپای، ماسکی بسازید که مثلث پایینی آن (درایه‌های زیر قطر) مقدار صفر باشد و خانه‌های بالای قطر (و خود قطر)، مقدار یک داشته باشند.\n",
    "</li>\n",
    "\n",
    "  <li>\n",
    "این ماسک باید ۳۱ سطر و ۳۱ ستون داشته باشد.</li>\n",
    "</ul>\n",
    "</font>\n",
    "</p>\n",
    "</div>"
   ]
  },
  {
   "cell_type": "code",
   "execution_count": null,
   "metadata": {
    "id": "Qqk5eYf7ik3O"
   },
   "outputs": [],
   "source": [
    "import numpy as np\n",
    "\n",
    "my_mask = None # to do"
   ]
  },
  {
   "attachments": {},
   "cell_type": "markdown",
   "metadata": {
    "id": "iH-dOEiZkbcW"
   },
   "source": [
    "\n",
    "<h2 align=right style=\"line-height:200%;font-family:vazir;color:#0099cc\">\n",
    "<font face=\"vazirmatn\" color=\"#0099cc\">\n",
    "قسمت چهارم\n",
    "</font>\n",
    "</h2>\n",
    "<div style=\"line-height:200%;font-family:vazir;font-size:medium\">\n",
    "<p style=\"direction: rtl;text-align: justify;\">\n",
    "<font face=\"vazirmatn\" size=3>\n",
    "<ul style=\"direction: rtl;text-align: justify;\">\n",
    "  <li>\n",
    "با مت‌پلات، یک شکل شامل یک صفحه‌محور بسازید و اندازه‌ی طول و عرض آن را به ترتیب برابر ۱۲ و ۱۰ اینچ قرار دهید.\n",
    "</li>\n",
    "\n",
    "  <li>\n",
    "با استفاده از تابع <code>heatmap</code> سیبورن، بر روی صفحه‌محوری که ساختید، یک نقشه‌ی حرارتی بکشید. ماتریس رابطه‌ای که در بخش اول به‌‌دست آمد را به آن بدهید. این‌بار از نگاشت رنگ <code>jet</code> استفاده کنید.\n",
    "\n",
    "</li>\n",
    "\n",
    "  <li>\n",
    "ماسکی که در بخش قبل ساختید را در آرگومان <code>mask</code> به تابع <code>heatmap</code> بدهید تا فقط قسمت پایینی نقشه حرارتی رسم شود. خانه‌هایی که مقدار <code>mask</code> آن‌ها برابر یک می‌باشد، رسم نمی‌شوند.\n",
    "\n",
    "</li>\n",
    "\n",
    "  <li>\n",
    "عنوان نمودار را برابر <code>correlation heatmap lower triangular</code> قرار دهید.\n",
    "</li>\n",
    "\n",
    "</ul>\n",
    "</font>\n",
    "</p>\n",
    "</div>"
   ]
  },
  {
   "cell_type": "code",
   "execution_count": null,
   "metadata": {
    "colab": {
     "base_uri": "https://localhost:8080/",
     "height": 655
    },
    "id": "53lnYG2qb4Lu",
    "outputId": "363dabb9-ab20-4fce-8365-90746dbb9f35"
   },
   "outputs": [],
   "source": [
    "fig2, ax2 = None # to do"
   ]
  },
  {
   "attachments": {},
   "cell_type": "markdown",
   "metadata": {
    "id": "dKXyfUexjKb0"
   },
   "source": [
    "\n",
    "<h3 align=right style=\"line-height:200%;font-family:vazir;color:#0099cc\">\n",
    "<font face=\"vazirmatn\" color=\"#0099cc\">\n",
    "توابع نگاشت رنگ\n",
    "</font>\n",
    "</h3>\n",
    "<div style=\"line-height:200%;font-family:vazir;font-size:medium\">\n",
    "<p style=\"direction: rtl;text-align: justify;\">\n",
    "<font face=\"vazirmatn\" size=3>\n",
    "در این تمرین از دو تابع نگاشت رنگ استفاده کردید. انتخاب نگاشت رنگ متناسب با نیاز ما و نوع مسئله مشخص می‌شود. هر تابع نگاشت رنگ، اعداد را به طیف مخصوصی از رنگ‌ها نگاشت می‌کند. این طیف می‌تواند شامل یک، دو یا حتی همه‌ی رنگ‌ها باشد. مت‌پلات توابع نگاشت رنگ متنوعی دارد که در\n",
    " <a href=\"https://matplotlib.org/stable/tutorials/colors/colormaps.html\n",
    "\">این لینک </a>\n",
    "  می‌توانید با آن‌ها آشنا شوید.\n",
    "</font>\n",
    "</p>\n",
    "</div>\n"
   ]
  },
  {
   "attachments": {},
   "cell_type": "markdown",
   "metadata": {},
   "source": [
    "<h2 align=right style=\"line-height:200%;font-family:vazir;color:#0099cc\">\n",
    "<font face=\"vazirmatn\" color=\"#0099cc\">\n",
    "<b>سلول جواب‌ساز</b>\n",
    "</font>\n",
    "</h2>\n",
    "\n",
    "\n",
    "<p dir=rtl style=\"direction: rtl; text-align: justify; line-height:200%; font-family:vazir; font-size:medium\">\n",
    "<font face=\"vazirmatn\" size=3>\n",
    "    برای ساخته‌شدن فایل <code>result.zip</code> سلول زیر را اجرا کنید. توجه داشته باشید که پیش از اجرای سلول زیر تغییرات اعمال شده در نت‌بوک را ذخیره کرده باشید (<code>ctrl+s</code>) تا در صورت نیاز به پشتیبانی امکان بررسی کد شما وجود داشته باشد.\n",
    "</font>\n",
    "</p>"
   ]
  },
  {
   "cell_type": "code",
   "execution_count": null,
   "metadata": {},
   "outputs": [],
   "source": [
    "import zlib\n",
    "import zipfile\n",
    "import joblib\n",
    "\n",
    "joblib.dump(fig2,\"fig2\")\n",
    "joblib.dump(fig1,\"fig1\")\n",
    "np.savez(\"answers.npz\", corr_matrix = corr_matrix.to_numpy(), my_mask = my_mask)\n",
    "\n",
    "def compress(file_names):\n",
    "    print(\"File Paths:\")\n",
    "    print(file_names)\n",
    "    compression = zipfile.ZIP_DEFLATED\n",
    "    with zipfile.ZipFile(\"result.zip\", mode=\"w\") as zf:\n",
    "        for file_name in file_names:\n",
    "            zf.write('./' + file_name, file_name, compress_type=compression)\n",
    "\n",
    "file_names = [\"fig2\",\"fig1\",\"answers.npz\", \"unidro.ipynb\"]\n",
    "compress(file_names)"
   ]
  }
 ],
 "metadata": {
  "colab": {
   "collapsed_sections": [],
   "name": "unidro.ipynb",
   "provenance": []
  },
  "kernelspec": {
   "display_name": "Python 3",
   "language": "python",
   "name": "python3"
  },
  "language_info": {
   "codemirror_mode": {
    "name": "ipython",
    "version": 3
   },
   "file_extension": ".py",
   "mimetype": "text/x-python",
   "name": "python",
   "nbconvert_exporter": "python",
   "pygments_lexer": "ipython3",
   "version": "3.8.0"
  },
  "vscode": {
   "interpreter": {
    "hash": "44e7e1b8fa2096bd5707ed7fd18b1724a2db25f4c565a7673f8b6e7bfc49d25d"
   }
  }
 },
 "nbformat": 4,
 "nbformat_minor": 4
}
