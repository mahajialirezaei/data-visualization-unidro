{
 "cells": [
  {
   "attachments": {},
   "cell_type": "markdown",
   "metadata": {},
   "source": [
    "<div align=center style=\"line-height:200%;font-family:vazir;font-size:medium;color:#0099cc\">\n",
    "<h1>\n",
    "<font face=\"vazirmatn\" color=\"#0099cc\">\n",
    "یونیدرو\n",
    "</font>\n",
    "</h1>\n",
    "</p>\n",
    "</div>\n",
    "\n",
    "<h2 align=right style=\"direction: rtl; text-align: right; line-height:200%;font-family:vazir;color:#0099cc\">\n",
    "<font face=\"vazirmatn\" color=\"#0099cc\">\n",
    "آشنایی با نقشه‌ی حرارتی (Heatmap) \n",
    "</font>\n",
    "</h2>\n",
    "\n",
    "<div style=\"line-height:200%;font-family:vazir;font-size:medium\">\n",
    "<p style=\"direction: rtl;text-align: justify;\">\n",
    "<font face=\"vazirmatn\" size=3>\n",
    "\n",
    "نقشه‌ی حرارتی روشی برای نمایش داده‌ها در امور تحلیل داده‌ای می‌باشد که در آن رنگ‌ها متناسب با بزرگی و کوچکی اعداد تغییر می‌کنند. در نقشه‌های حرارتی، از یک تابع نگاشت رنگ (color map) برای تبدیل اعداد به رنگ‌ها استفاده می‌شود. نقشه‌ی حرارتی کاربرد‌های بسیاری دارد و در حوزه‌های مختلفی می‌توان برای نمایش اطلاعات از آن استفاده کرد. محققان داده معمولاً هنگامی‌که می‌خواهند نتایج کار را به شکلی قابل فهم به افراد غیر‌متخصص نشان دهند از نقشه‌ی حرارتی استفاده می‌کند. فرض کنید یک مجموعه‌داده‌ی بزرگ در اختیار دارید و رابطه‌ی همه‌ی ستون‌ها را با هم به‌صورت یک‌به‌یک محاسبه کرده‌اید. اگر بخواهید نتایج به‌دست‌آمده را به فرد دیگری نشان دهید، ارائه‌ی تمام اعداد راه‌‌حل ساده‌ای نمی‌باشد. به جای آن، می‌توان یک نقشه‌ی حرارتی ایجاد کرد که با یک نگاه به آن، خیلی سریع متغیر‌های به‌هم‌وابسته شناسایی می‌شوند چون رنگ آنها متفاوت است. در این تمرین با استفاده از نقشه‌ی حرارتی رابطه بین عناصر مختلف در این مجموعه‌داده را مشخص می‌کنیم.\n",
    "</font>\n",
    "</p>\n",
    "</div>\n"
   ]
  },
  {
   "cell_type": "code",
   "execution_count": null,
   "metadata": {
    "id": "BtIHgscGW5TX"
   },
   "outputs": [],
   "source": [
    "import pandas as pd\n",
    "import matplotlib.pyplot as plt\n",
    "import seaborn as sns"
   ]
  },
  {
   "attachments": {},
   "cell_type": "markdown",
   "metadata": {},
   "source": [
    "<h2 align=right style=\"direction: rtl; text-align: right; line-height:200%;font-family:vazir;color:#0099cc\">\n",
    "<font face=\"vazirmatn\" color=\"#0099cc\">\n",
    "مجموعه‌داده\n",
    "</font>\n",
    "</h2>\n",
    "\n",
    "<div style=\"line-height:200%;font-family:vazir;font-size:medium\">\n",
    "<p style=\"direction: rtl;text-align: justify;\">\n",
    "<font face=\"vazirmatn\" size=3>\n",
    "داده‌های این تمرین در فایل <code>unidro_data.csv</code> قرار گرفته است. ابتدا این فایل را به‌شکل یک دیتافریم خوانده و نگاهی به آن بیندازیم.\n",
    "</font>\n",
    "</p>\n",
    "</div>"
   ]
  },
  {
   "cell_type": "code",
   "execution_count": null,
   "metadata": {
    "id": "bGgA5uj4XMWS"
   },
   "outputs": [],
   "source": [
    "df = pd.read_csv('unidro_data.csv')\n",
    "df.head()"
   ]
  },
  {
   "attachments": {},
   "cell_type": "markdown",
   "metadata": {},
   "source": [
    "\n",
    "<div style=\"line-height:200%;font-family:vazir;font-size:medium\">\n",
    "<p style=\"direction: rtl;text-align: justify;\">\n",
    "<font face=\"vazirmatn\" size=3>\n",
    "داده‌های این تمرین، از اطلاعات واقعی عناصر و عیار آن‌ها که شرکت یونیدرو از آن‌ها استفاده می‌کند، به‌‌دست‌ آمده است. در صنایع معدن، نمونه‌های یک گرمی را با دستگاهی به نام <i>ICP-OES</i>\n",
    " مورد بررسی قرار می‌دهند و دستگاه، غلظت عناصر موجود در آن نمونه‌ی یک‌گرمی را به ما می‌دهد. واحد غلظت، <i>ppm (part per million)</i> می‌باشد. در این دیتافریم، ۱۲۲۶ نمونه‌ی یک‌گرمی مورد بررسی قرار گرفته‌اند و غلظت عناصر مورد نظر ما (۳۱ عنصر)، به‌‌دست‌ آمده‌اند. در این تمرین، می‌خواهیم بررسی کنیم که آیا رابطه‌ی معناداری بین عیار عناصر وجود دارد یا خیر. یعنی با افزایش یک عنصر در یک نمونه، چه عناصری کاهش یا افزایش می‌یابند.\n",
    "</font>\n",
    "</p>\n",
    "</div>"
   ]
  },
  {
   "cell_type": "code",
   "execution_count": null,
   "metadata": {},
   "outputs": [],
   "source": [
    "df.shape"
   ]
  },
  {
   "attachments": {},
   "cell_type": "markdown",
   "metadata": {
    "id": "h6LgDTETY6xn"
   },
   "source": [
    "<h2 align=right style=\"line-height:200%;font-family:vazir;color:#0099cc\">\n",
    "<font face=\"vazirmatn\" color=\"#0099cc\">\n",
    "قسمت اول\n",
    "</font>\n",
    "</h2>\n",
    "<div style=\"line-height:200%;font-family:vazir;font-size:medium\">\n",
    "<p style=\"direction: rtl;text-align: justify;\">\n",
    "<font face=\"vazirmatn\" size=3>\n",
    "ماتریس هم‌بستگی (correlation)  بین ستون‌های این دیتافریم را به‌دست آورید.\n",
    "</font>\n",
    "</p>\n",
    "</div>"
   ]
  },
  {
   "cell_type": "code",
   "execution_count": null,
   "metadata": {
    "id": "jb8SbDnjXRst"
   },
   "outputs": [],
   "source": [
    "corr_matrix = None # To-Do"
   ]
  },
  {
   "attachments": {},
   "cell_type": "markdown",
   "metadata": {
    "id": "YCSECd5TZgaq"
   },
   "source": [
    "\n",
    "<h2 align=right style=\"line-height:200%;font-family:vazir;color:#0099cc\">\n",
    "<font face=\"vazirmatn\" color=\"#0099cc\">\n",
    "قسمت دوم\n",
    "</font>\n",
    "\n",
    "</h2>\n",
    "<div style=\"line-height:200%;font-family:vazir;font-size:medium\">\n",
    "<p style=\"direction: rtl;text-align: justify;\">\n",
    "<font face=\"vazirmatn\" size=3>\n",
    "<ul style=\"direction: rtl;text-align: justify;\">\n",
    "  <li>\n",
    "با مت‌پلات، یک شکل شامل یک صفحه‌محور بسازید و اندازه‌ی طول و عرض آن را به ترتیب برابر ۱۲ و ۱۰ اینچ قرار دهید.\n",
    "</li>\n",
    "\n",
    "  <li>\n",
    "با استفاده از تابع <code>heatmap</code> سیبورن، بر روی صفحه‌محوری که ساختید، یک نقشه‌ی حرارتی بکشید. ماتریس رابطه‌ای که در قسمت اول به‌‌دست‌ آمد را به آن بدهید. همچنین از نگاشت رنگ <code>viridis</code> استفاده کنید.\n",
    "\n",
    "</li>\n",
    "\n",
    "  <li>\n",
    "عنوان نمودار را برابر <code>correlation heatmap</code> قرار دهید.\n",
    "\n",
    "</li>\n",
    "\n",
    "</ul>\n",
    "</font>\n",
    "</p>\n",
    "</div>"
   ]
  },
  {
   "cell_type": "code",
   "execution_count": null,
   "metadata": {
    "colab": {
     "base_uri": "https://localhost:8080/",
     "height": 655
    },
    "id": "vvsmLJN6Y7bw",
    "outputId": "c1985e42-295e-446e-a05d-1b79855d074d"
   },
   "outputs": [],
   "source": [
    "fig1, ax1 = None # To-Do"
   ]
  },
  {
   "attachments": {},
   "cell_type": "markdown",
   "metadata": {
    "id": "NSZ6b6Jwhura"
   },
   "source": [
    "\n",
    "<div style=\"line-height:200%;font-family:vazir;font-size:medium\">\n",
    "<p style=\"direction: rtl;text-align: justify;\">\n",
    "<font face=\"vazirmatn\" size=3>\n",
    "اگر با دقت به خروجی قسمت دوم نگاه کنید، می‌بینید که این شکل متقارن است. به این دلیل که رابطه ویژگی \n",
    "<code>x</code>\n",
    " و \n",
    " <code>y</code>\n",
    "  با رابطه ویژگی \n",
    "  <code>y</code>\n",
    "   و \n",
    "   <code>x</code>\n",
    "    برابر است. یعنی هر مقدار دو بار حساب شده است و ماتریس از روی قطر متقارن است.\n",
    "</font>\n",
    "</p>\n",
    "</div>\n"
   ]
  },
  {
   "attachments": {},
   "cell_type": "markdown",
   "metadata": {
    "id": "Y-RSOsJ9imrE"
   },
   "source": [
    "\n",
    "<h2 align=right style=\"line-height:200%;font-family:vazir;color:#0099cc\">\n",
    "<font face=\"vazirmatn\" color=\"#0099cc\">\n",
    "قسمت سوم\n",
    "</font>\n",
    "</h2>\n",
    "<div style=\"line-height:200%;font-family:vazir;font-size:medium\">\n",
    "<p style=\"direction: rtl;text-align: justify;\">\n",
    "<font face=\"vazirmatn\" size=3>\n",
    "ماسک (mask)، آرایه‌ای است که اجزای آن فقط صفر و یک (یا <code>True</code> و <code>False</code>) می‌باشند. نمونه‌هایی از ماسک را در فصل نامپای و پانداز دیدید.\n",
    "در این قسمت می‌خواهیم یک ماسک بسازیم و از آن برای نمایش مثلث پایینی نقشه‌ی حرارتی استفاده کنیم.\n",
    "<br>\n",
    "\n",
    "<ul style=\"direction: rtl;text-align: justify;\">\n",
    "  <li>\n",
    "با استفاده از نامپای، ماسکی بسازید که مثلث پایینی آن (درایه‌های زیر قطر) مقدار صفر باشد و خانه‌های بالای قطر (و خود قطر)، مقدار یک داشته باشند.\n",
    "</li>\n",
    "\n",
    "  <li>\n",
    "این ماسک باید ۳۱ سطر و ۳۱ ستون داشته باشد.</li>\n",
    "</ul>\n",
    "</font>\n",
    "</p>\n",
    "</div>"
   ]
  },
  {
   "cell_type": "code",
   "execution_count": null,
   "metadata": {
    "id": "Qqk5eYf7ik3O"
   },
   "outputs": [],
   "source": [
    "import numpy as np\n",
    "\n",
    "my_mask = None # to do"
   ]
  },
  {
   "attachments": {},
   "cell_type": "markdown",
   "metadata": {
    "id": "iH-dOEiZkbcW"
   },
   "source": [
    "\n",
    "<h2 align=right style=\"line-height:200%;font-family:vazir;color:#0099cc\">\n",
    "<font face=\"vazirmatn\" color=\"#0099cc\">\n",
    "قسمت چهارم\n",
    "</font>\n",
    "</h2>\n",
    "<div style=\"line-height:200%;font-family:vazir;font-size:medium\">\n",
    "<p style=\"direction: rtl;text-align: justify;\">\n",
    "<font face=\"vazirmatn\" size=3>\n",
    "<ul style=\"direction: rtl;text-align: justify;\">\n",
    "  <li>\n",
    "با مت‌پلات، یک شکل شامل یک صفحه‌محور بسازید و اندازه‌ی طول و عرض آن را به ترتیب برابر ۱۲ و ۱۰ اینچ قرار دهید.\n",
    "</li>\n",
    "\n",
    "  <li>\n",
    "با استفاده از تابع <code>heatmap</code> سیبورن، بر روی صفحه‌محوری که ساختید، یک نقشه‌ی حرارتی بکشید. ماتریس رابطه‌ای که در بخش اول به‌‌دست آمد را به آن بدهید. این‌بار از نگاشت رنگ <code>jet</code> استفاده کنید.\n",
    "\n",
    "</li>\n",
    "\n",
    "  <li>\n",
    "ماسکی که در بخش قبل ساختید را در آرگومان <code>mask</code> به تابع <code>heatmap</code> بدهید تا فقط قسمت پایینی نقشه حرارتی رسم شود. خانه‌هایی که مقدار <code>mask</code> آن‌ها برابر یک می‌باشد، رسم نمی‌شوند.\n",
    "\n",
    "</li>\n",
    "\n",
    "  <li>\n",
    "عنوان نمودار را برابر <code>correlation heatmap lower triangular</code> قرار دهید.\n",
    "</li>\n",
    "\n",
    "</ul>\n",
    "</font>\n",
    "</p>\n",
    "</div>"
   ]
  },
  {
   "cell_type": "code",
   "execution_count": null,
   "metadata": {
    "colab": {
     "base_uri": "https://localhost:8080/",
     "height": 655
    },
    "id": "53lnYG2qb4Lu",
    "outputId": "363dabb9-ab20-4fce-8365-90746dbb9f35"
   },
   "outputs": [],
   "source": [
    "fig2, ax2 = None # to do"
   ]
  },
  {
   "attachments": {},
   "cell_type": "markdown",
   "metadata": {
    "id": "dKXyfUexjKb0"
   },
   "source": [
    "\n",
    "<h3 align=right style=\"line-height:200%;font-family:vazir;color:#0099cc\">\n",
    "<font face=\"vazirmatn\" color=\"#0099cc\">\n",
    "توابع نگاشت رنگ\n",
    "</font>\n",
    "</h3>\n",
    "<div style=\"line-height:200%;font-family:vazir;font-size:medium\">\n",
    "<p style=\"direction: rtl;text-align: justify;\">\n",
    "<font face=\"vazirmatn\" size=3>\n",
    "در این تمرین از دو تابع نگاشت رنگ استفاده کردید. انتخاب نگاشت رنگ متناسب با نیاز ما و نوع مسئله مشخص می‌شود. هر تابع نگاشت رنگ، اعداد را به طیف مخصوصی از رنگ‌ها نگاشت می‌کند. این طیف می‌تواند شامل یک، دو یا حتی همه‌ی رنگ‌ها باشد. مت‌پلات توابع نگاشت رنگ متنوعی دارد که در\n",
    " <a href=\"https://matplotlib.org/stable/tutorials/colors/colormaps.html\n",
    "\">این لینک </a>\n",
    "  می‌توانید با آن‌ها آشنا شوید.\n",
    "</font>\n",
    "</p>\n",
    "</div>\n"
   ]
  },
  {
   "attachments": {},
   "cell_type": "markdown",
   "metadata": {},
   "source": [
    "<h2 align=right style=\"line-height:200%;font-family:vazir;color:#0099cc\">\n",
    "<font face=\"vazirmatn\" color=\"#0099cc\">\n",
    "<b>سلول جواب‌ساز</b>\n",
    "</font>\n",
    "</h2>\n",
    "\n",
    "\n",
    "<p dir=rtl style=\"direction: rtl; text-align: justify; line-height:200%; font-family:vazir; font-size:medium\">\n",
    "<font face=\"vazirmatn\" size=3>\n",
    "    برای ساخته‌شدن فایل <code>result.zip</code> سلول زیر را اجرا کنید. توجه داشته باشید که پیش از اجرای سلول زیر تغییرات اعمال شده در نت‌بوک را ذخیره کرده باشید (<code>ctrl+s</code>) تا در صورت نیاز به پشتیبانی امکان بررسی کد شما وجود داشته باشد.\n",
    "</font>\n",
    "</p>"
   ]
  },
  {
   "cell_type": "code",
   "execution_count": null,
   "metadata": {},
   "outputs": [],
   "source": [
    "import zlib\n",
    "import zipfile\n",
    "import joblib\n",
    "\n",
    "joblib.dump(fig2,\"fig2\")\n",
    "joblib.dump(fig1,\"fig1\")\n",
    "np.savez(\"answers.npz\", corr_matrix = corr_matrix.to_numpy(), my_mask = my_mask)\n",
    "\n",
    "def compress(file_names):\n",
    "    print(\"File Paths:\")\n",
    "    print(file_names)\n",
    "    compression = zipfile.ZIP_DEFLATED\n",
    "    with zipfile.ZipFile(\"result.zip\", mode=\"w\") as zf:\n",
    "        for file_name in file_names:\n",
    "            zf.write('./' + file_name, file_name, compress_type=compression)\n",
    "\n",
    "file_names = [\"fig2\",\"fig1\",\"answers.npz\", \"unidro.ipynb\"]\n",
    "compress(file_names)"
   ]
  }
 ],
 "metadata": {
  "colab": {
   "collapsed_sections": [],
   "name": "unidro.ipynb",
   "provenance": []
  },
  "kernelspec": {
   "display_name": "Python 3",
   "language": "python",
   "name": "python3"
  },
  "language_info": {
   "codemirror_mode": {
    "name": "ipython",
    "version": 3
   },
   "file_extension": ".py",
   "mimetype": "text/x-python",
   "name": "python",
   "nbconvert_exporter": "python",
   "pygments_lexer": "ipython3",
   "version": "3.8.0"
  },
  "vscode": {
   "interpreter": {
    "hash": "44e7e1b8fa2096bd5707ed7fd18b1724a2db25f4c565a7673f8b6e7bfc49d25d"
   }
  }
 },
 "nbformat": 4,
 "nbformat_minor": 4
}
